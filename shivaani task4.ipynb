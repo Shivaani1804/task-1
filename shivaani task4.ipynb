{
 "cells": [
  {
   "cell_type": "code",
   "execution_count": 1,
   "id": "efecc483-94b9-4fe6-9f7e-2362f639cb3c",
   "metadata": {},
   "outputs": [
    {
     "name": "stdout",
     "output_type": "stream",
     "text": [
      "select operation:\n",
      "1. Add\n",
      "2. Subtract\n",
      "3. Multiply\n",
      "4. Divide\n"
     ]
    },
    {
     "name": "stdin",
     "output_type": "stream",
     "text": [
      "Enter choice (1/2/3/4): 1\n",
      "Enter first number: 10\n",
      "Enter second number: 20\n"
     ]
    },
    {
     "name": "stdout",
     "output_type": "stream",
     "text": [
      "10.0+20.0=30.0\n"
     ]
    },
    {
     "name": "stdin",
     "output_type": "stream",
     "text": [
      "Do you want to perform another calculation?(yes/no): yes\n",
      "Enter choice (1/2/3/4): 2\n",
      "Enter first number: 50\n",
      "Enter second number: 50\n"
     ]
    },
    {
     "name": "stdout",
     "output_type": "stream",
     "text": [
      "50.0-50.0=0.0\n"
     ]
    },
    {
     "name": "stdin",
     "output_type": "stream",
     "text": [
      "Do you want to perform another calculation?(yes/no): yes\n",
      "Enter choice (1/2/3/4): 3\n",
      "Enter first number: 100\n",
      "Enter second number: 10\n"
     ]
    },
    {
     "name": "stdout",
     "output_type": "stream",
     "text": [
      "100.0*10.0=1000.0\n"
     ]
    },
    {
     "name": "stdin",
     "output_type": "stream",
     "text": [
      "Do you want to perform another calculation?(yes/no): yes\n",
      "Enter choice (1/2/3/4): 4\n",
      "Enter first number: 5000\n",
      "Enter second number: 5\n"
     ]
    },
    {
     "name": "stdout",
     "output_type": "stream",
     "text": [
      "5000.0/5.0=1000.0\n"
     ]
    },
    {
     "name": "stdin",
     "output_type": "stream",
     "text": [
      "Do you want to perform another calculation?(yes/no): no\n"
     ]
    }
   ],
   "source": [
    "def add(x,y):\n",
    "    return x+y\n",
    "\n",
    "def subtract(x,y):\n",
    "    return x-y\n",
    "\n",
    "def multiply(x,y):\n",
    "    return x*y\n",
    "\n",
    "def divide(x,y):\n",
    "    if y==0:\n",
    "        return\"Error!division by zero.\"\n",
    "    return x/y\n",
    "\n",
    "def calculator():\n",
    "    print(\"select operation:\")\n",
    "    print(\"1. Add\")\n",
    "    print(\"2. Subtract\")\n",
    "    print(\"3. Multiply\")\n",
    "    print(\"4. Divide\")\n",
    "\n",
    "    while True:\n",
    "        choice = input(\"Enter choice (1/2/3/4):\")\n",
    "        if choice in['1','2','3','4']:\n",
    "            try:\n",
    "                num1= float(input(\"Enter first number:\"))\n",
    "                num2= float(input(\"Enter second number:\"))\n",
    "            except ValueError:\n",
    "                print(\"Invalid input. Please enter a number.\")\n",
    "                continue\n",
    "\n",
    "            if choice == '1':\n",
    "                print(f\"{num1}+{num2}={add(num1,num2)}\")\n",
    "            elif choice =='2':\n",
    "                print(f\"{num1}-{num2}={subtract(num1,num2)}\")\n",
    "            elif choice =='3':\n",
    "                print(f\"{num1}*{num2}={multiply(num1,num2)}\")\n",
    "            elif choice =='4':\n",
    "                result= divide(num1,num2)\n",
    "                if result ==\"Error!division by zero.\": \n",
    "                    print(result)\n",
    "                else:\n",
    "                    print(f\"{num1}/{num2}={result}\")\n",
    "            else:\n",
    "                print(\"Invalid input.Please enter a valid option.\")\n",
    "\n",
    "            next_calculation = input(\"Do you want to perform another calculation?(yes/no):\")\n",
    "            if next_calculation.lower() != \"yes\":\n",
    "                break\n",
    "\n",
    "if __name__ ==\"__main__\":\n",
    "    calculator()\n",
    "\n",
    "      \n",
    "    "
   ]
  },
  {
   "cell_type": "code",
   "execution_count": 2,
   "id": "fee22173-7068-4583-b519-b645de6b87e5",
   "metadata": {},
   "outputs": [
    {
     "ename": "SyntaxError",
     "evalue": "invalid decimal literal (575607699.py, line 33)",
     "output_type": "error",
     "traceback": [
      "\u001b[1;36m  Cell \u001b[1;32mIn[2], line 33\u001b[1;36m\u001b[0m\n\u001b[1;33m    button = tk.Button(root,text=text, font=\"Arial 20\",width=4, height=2_)\u001b[0m\n\u001b[1;37m                                                                        ^\u001b[0m\n\u001b[1;31mSyntaxError\u001b[0m\u001b[1;31m:\u001b[0m invalid decimal literal\n"
     ]
    }
   ],
   "source": [
    "import tkinter as tk\n",
    "from tkinter import messagebox\n",
    "\n",
    "def on_button_click(event):\n",
    "    current_text=entry.get()\n",
    "    text = event.widget.cget(\"text\")\n",
    "    if text ==\"=\":\n",
    "        try:\n",
    "            result = eval(current_text)\n",
    "            entry.delete(0,tk.END)entry.inser(tk.END,str(result))\n",
    "        except Exception as e:\n",
    "            messagebox.showerror(\"Error\",\"Invalid input\")\n",
    "    elif text == \"c\":\n",
    "        entry.delete(0,tk.END)\n",
    "    else\n",
    "        entry.insert(tk.END,text)\n",
    "\n",
    "root =tk.Tk()\n",
    "root.title(\"Calculator\")\n",
    "\n",
    "entry = tk.(root, font=\"Arial 20\",boderwidth=5,relief=tk.SUNKEN)\n",
    "entry.grid(row=0, column=0 ,columnspan=4)\n",
    "\n",
    "button_text= [\n",
    "    '7','8','9','/',\n",
    "    '4','5','6','*',\n",
    "    '1','2','3','-',\n",
    "    '0','c','=','+'\n",
    "]\n",
    "row_val = 1\n",
    "col_val = 0\n",
    "for ttext in button_texts:\n",
    "    button = tk.Button(root,text=text, font=\"Arial 20\",width=4, height=2_)\n",
    "    button.grid(row=row_val, column=col_val,padx=5, pady=5)\n",
    "    button.bind(\"<Button-1>\",on_button_click)\n",
    "    col_val += 1\n",
    "    if col_val > 3:\n",
    "        col_val = 0\n",
    "        row_val += 1\n",
    "\n",
    "root.mainloop()"
   ]
  },
  {
   "cell_type": "code",
   "execution_count": 3,
   "id": "12fba3b8-c5cf-4b70-b67c-13baf70dd921",
   "metadata": {},
   "outputs": [
    {
     "ename": "SyntaxError",
     "evalue": "invalid syntax (1241719683.py, line 10)",
     "output_type": "error",
     "traceback": [
      "\u001b[1;36m  Cell \u001b[1;32mIn[3], line 10\u001b[1;36m\u001b[0m\n\u001b[1;33m    entry.delete(0,tk.END)entry.inser(tk.END,str(result))\u001b[0m\n\u001b[1;37m                          ^\u001b[0m\n\u001b[1;31mSyntaxError\u001b[0m\u001b[1;31m:\u001b[0m invalid syntax\n"
     ]
    }
   ],
   "source": [
    "import tkinter as tk\n",
    "from tkinter import messagebox\n",
    "\n",
    "def on_button_click(event):\n",
    "    current_text=entry.get()\n",
    "    text = event.widget.cget(\"text\")\n",
    "    if text ==\"=\":\n",
    "        try:\n",
    "            result = eval(current_text)\n",
    "            entry.delete(0,tk.END)entry.insert(tk.END, str(result))\n",
    "        except Exception as e:\n",
    "            messagebox.showerror(\"Error\",\"Invalid input\")\n",
    "    elif text == \"c\":\n",
    "        entry.delete(0,tk.END)\n",
    "    else\n",
    "        entry.insert(tk.END,text)\n",
    "\n",
    "root =tk.Tk()\n",
    "root.title(\"Calculator\")\n",
    "\n",
    "entry = tk.(root, font=\"Arial 20\",boderwidth=5,relief=tk.SUNKEN)\n",
    "entry.grid(row=0, column=0 ,columnspan=4)\n",
    "\n",
    "button_text= [\n",
    "    '7','8','9','/',\n",
    "    '4','5','6','*',\n",
    "    '1','2','3','-',\n",
    "    '0','c','=','+'\n",
    "    ]\n",
    "row_val = 1\n",
    "col_val = 0\n",
    "for ttext in button_texts:\n",
    "    button = tk.Button(root,text=text, font=\"Arial 20\",width=4, height=2)\n",
    "    button.grid(row=row_val, column=col_val,padx=5, pady=5)\n",
    "    button.bind(\"<Button-1>\",on_button_click)\n",
    "    col_val += 1\n",
    "    if col_val > 3:\n",
    "        col_val = 0\n",
    "        row_val += 1\n",
    "\n",
    "root.mainloop()"
   ]
  },
  {
   "cell_type": "code",
   "execution_count": 5,
   "id": "c5c73770-4e57-48d3-814c-39fc097c2d2a",
   "metadata": {},
   "outputs": [
    {
     "ename": "IndentationError",
     "evalue": "unindent does not match any outer indentation level (<tokenize>, line 34)",
     "output_type": "error",
     "traceback": [
      "\u001b[1;36m  File \u001b[1;32m<tokenize>:34\u001b[1;36m\u001b[0m\n\u001b[1;33m    button.grid(row=row_val, column=col_val,padx=5, pady=5)\u001b[0m\n\u001b[1;37m    ^\u001b[0m\n\u001b[1;31mIndentationError\u001b[0m\u001b[1;31m:\u001b[0m unindent does not match any outer indentation level\n"
     ]
    }
   ],
   "source": [
    "import tkinter as tk\n",
    "from tkinter import messagebox\n",
    "\n",
    "def on_button_click(event):\n",
    "    current_text=entry.get()\n",
    "    text = event.widget.cget(\"text\")\n",
    "    if text ==\"=\":\n",
    "        try:\n",
    "            result = eval(current_text)\n",
    "            entry.delete(0,tk.END)entry.insert(tk.END, str(result))\n",
    "        except Exception as e:\n",
    "            messagebox.showerror(\"Error\",\"Invalid input\")\n",
    "    elif text == \"c\":\n",
    "        entry.delete(0,tk.END)\n",
    "    else\n",
    "        entry.insert(tk.END,text)\n",
    "\n",
    "root =tk.Tk()\n",
    "root.title(\"Calculator\")\n",
    "\n",
    "entry = tk.(root, font=\"Arial 20\",boderwidth=5,relief=tk.SUNKEN)\n",
    "entry.grid(row=0, column=0 ,columnspan=4)\n",
    "\n",
    "button_text= [\n",
    "    '7','8','9','/',\n",
    "    '4','5','6','*',\n",
    "    '1','2','3','-',\n",
    "    '0','c','=','+'\n",
    "    ]\n",
    "row_val = 1\n",
    "col_val = 0\n",
    "for ttext in button_texts:\n",
    "     button = tk.Button(root,text=text, font=\"Arial 20\",width=4, height=2)\n",
    "    button.grid(row=row_val, column=col_val, padx=5, pady=5)\n",
    "    button.bind(\"<Button-1>\",on_button_click)\n",
    "    col_val += 1\n",
    "    if col_val > 3:\n",
    "        col_val = 0\n",
    "        row_val += 1\n",
    "\n",
    "root.mainloop()"
   ]
  },
  {
   "cell_type": "code",
   "execution_count": 16,
   "id": "e8fad250-7677-4e7d-a352-c36b3314668c",
   "metadata": {},
   "outputs": [
    {
     "ename": "SyntaxError",
     "evalue": "invalid syntax (4294915604.py, line 10)",
     "output_type": "error",
     "traceback": [
      "\u001b[1;36m  Cell \u001b[1;32mIn[16], line 10\u001b[1;36m\u001b[0m\n\u001b[1;33m    entry.delete(0,tk.END)entry.insert(tk.END, str(result))\u001b[0m\n\u001b[1;37m                          ^\u001b[0m\n\u001b[1;31mSyntaxError\u001b[0m\u001b[1;31m:\u001b[0m invalid syntax\n"
     ]
    }
   ],
   "source": [
    "import tkinter as tk\n",
    "from tkinter import messagebox\n",
    "\n",
    "def on_button_click(event):\n",
    "    current_text=entry.get()\n",
    "    text = event.widget.cget(\"text\")\n",
    "    if text ==\"=\":\n",
    "        try:\n",
    "            result = eval(current_text)\n",
    "            entry.delete(0,tk.END)entry.insert(tk.END, str(result))\n",
    "        except Exception as e:\n",
    "            messagebox.showerror(\"Error\",\"Invalid input\")\n",
    "    elif text == \"c\":\n",
    "        entry.delete(0,tk.END)\n",
    "    else\n",
    "        entry.insert(tk.END,text)\n",
    "\n",
    "root =tk.Tk()\n",
    "root.title(\"Calculator\")\n",
    "\n",
    "entry = tk.(root, font=\"Arial 20\", boderwidth=5, relief=tk.SUNKEN)\n",
    "entry.grid(row=0, column=0 ,columnspan=4)\n",
    "\n",
    "button_text= [\n",
    "    '7','8','9','/',\n",
    "    '4','5','6','*',\n",
    "    '1','2','3','-',\n",
    "    '0','c','=','+'\n",
    " ]\n",
    "row_val = 1\n",
    "col_val = 0\n",
    "for ttext in button_texts:\n",
    "    button = tk.Button(root, text=text, font=\"Arial 20\", width=4, height=2)\n",
    "    button.grid(row=row_val, column=col_val, padx=5, pady=5)\n",
    "    button.bind(\"<Button-1>\",on_button_click)\n",
    "    col_val += 1\n",
    "    if col_val > 3:\n",
    "        col_val = 0\n",
    "        row_val += 1\n",
    "\n",
    "root.mainloop()"
   ]
  },
  {
   "cell_type": "code",
   "execution_count": null,
   "id": "b3fbd373-d494-4ca5-ae4f-376741993514",
   "metadata": {},
   "outputs": [],
   "source": [
    "import tkinter as tk\n",
    "from tkinter import messagebox\n",
    "\n",
    "def on_button_click(event):\n",
    "    current_text=entry.get()\n",
    "    text = event.widget.cget(\"text\")\n",
    "    if text ==\"=\":\n",
    "        try:\n",
    "            result = eval(current_text)\n",
    "            entry.delete(0, tk.END); entry.insert(tk.END, str(result))\n",
    "        except Exception as e:\n",
    "            messagebox.showerror(\"Error\",\"Invalid input\")\n",
    "    elif text == \"c\":\n",
    "        entry.delete(0,tk.END)\n",
    "    else:\n",
    "        entry.insert(tk.END,text)\n",
    "\n",
    "root =tk.Tk()\n",
    "root.title(\"Calculator\")\n",
    "\n",
    "entry = tk.Entry(root, font=\"Arial 20\", borderwidth=5, relief=tk.SUNKEN)\n",
    "entry.grid(row=0, column=0 ,columnspan=4)\n",
    "\n",
    "button_text= [\n",
    "    '7','8','9','/',\n",
    "    '4','5','6','*',\n",
    "    '1','2','3','-',\n",
    "    '0','c','=','+'\n",
    " ]\n",
    "row_val = 1\n",
    "col_val = 0\n",
    "for ttext in button_text:\n",
    "    button = tk.Button(root, text=ttext, font=\"Arial 20\", width=4, height=2)  # Change 'text' to 'ttext'\n",
    "    button.grid(row=row_val, column=col_val, padx=5, pady=5)\n",
    "    button.bind(\"<Button-1>\", on_button_click)\n",
    "    col_val += 1\n",
    "    if col_val > 3:\n",
    "        col_val = 0\n",
    "        row_val += 1\n",
    "\n",
    "root.mainloop()\n"
   ]
  },
  {
   "cell_type": "code",
   "execution_count": null,
   "id": "1f6089d0-ef6e-4ee0-8b0d-190ed5fcf411",
   "metadata": {},
   "outputs": [],
   "source": [
    "import tkinter as tk\n",
    "\n",
    "# Function to update the entry widget with button clicks\n",
    "def on_button_click(value):\n",
    "    current_text = entry.get()\n",
    "    entry.delete(0, tk.END)\n",
    "    entry.insert(tk.END, current_text + str(value))\n",
    "\n",
    "# Function to evaluate the expression\n",
    "def calculate():\n",
    "    try:\n",
    "        result = eval(entry.get())\n",
    "        entry.delete(0, tk.END)\n",
    "        entry.insert(tk.END, str(result))\n",
    "    except Exception as e:\n",
    "        entry.delete(0, tk.END)\n",
    "        entry.insert(tk.END, \"Error\")\n",
    "\n",
    "# Function to clear the entry widget\n",
    "def clear():\n",
    "    entry.delete(0, tk.END)\n",
    "\n",
    "# Create the main window\n",
    "root = tk.Tk()\n",
    "root.title(\"Simple Calculator\")\n",
    "\n",
    "# Entry widget to display calculations\n",
    "entry = tk.Entry(root, font=\"Arial 20\", borderwidth=5, relief=tk.SUNKEN)\n",
    "entry.grid(row=0, column=0, columnspan=4, padx=10, pady=10)\n",
    "\n",
    "# Button texts\n",
    "button_text = [\n",
    "    '7', '8', '9', '/',\n",
    "    '4', '5', '6', '*',\n",
    "    '1', '2', '3', '-',\n",
    "    'C', '0', '=', '+'\n",
    "]\n",
    "\n",
    "# Create buttons\n",
    "row_val = 1\n",
    "col_val = 0\n",
    "for ttext in button_text:\n",
    "    if ttext == '=':\n",
    "        button = tk.Button(root, text=ttext, font=\"Arial 20\", width=4, height=2, command=calculate)\n",
    "    elif ttext == 'C':\n",
    "        button = tk.Button(root, text=ttext, font=\"Arial 20\", width=4, height=2, command=clear)\n",
    "    else:\n",
    "        button = tk.Button(root, text=ttext, font=\"Arial 20\", width=4, height=2, command=lambda value=ttext: on_button_click(value))\n",
    "    \n",
    "    button.grid(row=row_val, column=col_val, padx=5, pady=5)\n",
    "    \n",
    "    col_val += 1\n",
    "    if col_val > 3:  # Move to the next row after 4 columns\n",
    "        col_val = 0\n",
    "        row_val += 1\n",
    "\n",
    "# Start the main event loop\n",
    "root.mainloop()\n"
   ]
  },
  {
   "cell_type": "code",
   "execution_count": null,
   "id": "a73646a1-ab34-43b9-b1bd-0df09da6c5fa",
   "metadata": {},
   "outputs": [],
   "source": []
  }
 ],
 "metadata": {
  "kernelspec": {
   "display_name": "Python 3 (ipykernel)",
   "language": "python",
   "name": "python3"
  },
  "language_info": {
   "codemirror_mode": {
    "name": "ipython",
    "version": 3
   },
   "file_extension": ".py",
   "mimetype": "text/x-python",
   "name": "python",
   "nbconvert_exporter": "python",
   "pygments_lexer": "ipython3",
   "version": "3.10.5"
  }
 },
 "nbformat": 4,
 "nbformat_minor": 5
}
