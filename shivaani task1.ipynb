{
 "cells": [
  {
   "cell_type": "code",
   "execution_count": 1,
   "id": "7f647427-c059-4a4e-817b-8953ef40d067",
   "metadata": {},
   "outputs": [
    {
     "name": "stdout",
     "output_type": "stream",
     "text": [
      "updated list: [10, 2, 'hi', 4, 5, 6]\n"
     ]
    }
   ],
   "source": [
    "my_list=[1,2,3,4,5]\n",
    "my_list.append(6)\n",
    "my_list.remove(3)\n",
    "my_list[0]=10\n",
    "my_list.insert(2,\"hi\")\n",
    "print(\"updated list:\",my_list)"
   ]
  },
  {
   "cell_type": "code",
   "execution_count": 5,
   "id": "051eda1d-ad15-4fa3-bdf1-72b18a56d63b",
   "metadata": {},
   "outputs": [
    {
     "name": "stdout",
     "output_type": "stream",
     "text": [
      "updated dictionary: {'name': 'shivaani', 'city': 'bangalore', 'gender': 'female'}\n"
     ]
    }
   ],
   "source": [
    "my_dict= {'name':'shivaani','age':20,'city':'delhi'}\n",
    "my_dict['gender']='female'\n",
    "del my_dict['age']\n",
    "my_dict['city']='bangalore'\n",
    "print(\"updated dictionary:\",my_dict)"
   ]
  },
  {
   "cell_type": "code",
   "execution_count": 6,
   "id": "779da0c2-c7a9-4bfa-aa47-872fad9427c6",
   "metadata": {},
   "outputs": [
    {
     "name": "stdout",
     "output_type": "stream",
     "text": [
      "(1, 2, 5)\n"
     ]
    }
   ],
   "source": [
    "original_tuple=(1,2,3)\n",
    "new_element=4\n",
    "updated_tuple=original_tuple+(new_element,)\n",
    "updated_tuple=original_tuple[:1]+original_tuple[2:]\n",
    "modified_element=5\n",
    "updated_tuple=original_tuple[:2]+(modified_element,)+original_tuple[3:]\n",
    "print(updated_tuple)"
   ]
  },
  {
   "cell_type": "code",
   "execution_count": null,
   "id": "a5dca2cd-ccdf-4813-b104-55bc34552db1",
   "metadata": {},
   "outputs": [],
   "source": []
  }
 ],
 "metadata": {
  "kernelspec": {
   "display_name": "Python 3 (ipykernel)",
   "language": "python",
   "name": "python3"
  },
  "language_info": {
   "codemirror_mode": {
    "name": "ipython",
    "version": 3
   },
   "file_extension": ".py",
   "mimetype": "text/x-python",
   "name": "python",
   "nbconvert_exporter": "python",
   "pygments_lexer": "ipython3",
   "version": "3.10.5"
  }
 },
 "nbformat": 4,
 "nbformat_minor": 5
}
